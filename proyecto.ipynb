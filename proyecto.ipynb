{
 "cells": [
  {
   "cell_type": "markdown",
   "metadata": {},
   "source": [
    "# Proyecto Final: Cesar Baute, María Paola Galvis, Luis Gil, Luis Montes, Joyce Wagner\n",
    "\n",
    "## Jugar a la vieja con una IA"
   ]
  },
  {
   "cell_type": "markdown",
   "metadata": {},
   "source": [
    "#### **Inicialización de constantes y recompensas**"
   ]
  },
  {
   "cell_type": "code",
   "execution_count": 2,
   "metadata": {},
   "outputs": [],
   "source": [
    "import numpy as np\n",
    "from itertools import product\n",
    "import matplotlib.pyplot as plt\n",
    "from game_demo import start_game\n",
    "import random\n",
    "\n",
    "REWARD_WIN = 20\n",
    "REWARD_LOSE = -5\n",
    "REWARD_DRAW = 3\n",
    "REWARD_BLOCKING = 1.5 \n",
    "REWARD_DEFAULT = 0\n",
    "REWARD_CENTER = 0.5\n",
    "\n",
    "epsilon = 0.90 \n",
    "epsilon_decay = 0.995\n",
    "min_epsilon = 0.01 \n",
    "gamma = 0.8\n",
    "alpha = 0.1\n"
   ]
  },
  {
   "cell_type": "markdown",
   "metadata": {},
   "source": [
    "#### **Funciones de juego**"
   ]
  },
  {
   "cell_type": "code",
   "execution_count": 3,
   "metadata": {},
   "outputs": [],
   "source": [
    "def check_winner(current_state):\n",
    "    board = [current_state[i:i+3] for i in range(0, 9, 3)]\n",
    "\n",
    "    for row in board:\n",
    "        if row[0] == row[1] == row[2] != \" \":\n",
    "            return row[0]\n",
    "\n",
    "    for col in range(3):\n",
    "        if board[0][col] == board[1][col] == board[2][col] != \" \":\n",
    "            return board[0][col]\n",
    "\n",
    "    if board[0][0] == board[1][1] == board[2][2] != \" \":\n",
    "        return board[0][0]\n",
    "    if board[0][2] == board[1][1] == board[2][0] != \" \":\n",
    "        return board[0][2]\n",
    "\n",
    "    if \" \" in current_state:\n",
    "        return None  # El juego aún no ha terminado\n",
    "\n",
    "    return \"draw\"\n",
    "\n",
    "def make_move(board, player, action):\n",
    "    board = board[:action] + player + board[action + 1:]\n",
    "    return board\n"
   ]
  },
  {
   "cell_type": "markdown",
   "metadata": {},
   "source": [
    "#### **Inicialización de Q**"
   ]
  },
  {
   "cell_type": "code",
   "execution_count": 4,
   "metadata": {},
   "outputs": [],
   "source": [
    "def available_actions(state):\n",
    "    return [i for i, cell in enumerate(state) if cell == \" \"]"
   ]
  },
  {
   "cell_type": "code",
   "execution_count": 5,
   "metadata": {},
   "outputs": [],
   "source": [
    "def initialize_Q():\n",
    "    Q = {}\n",
    "    for state in product(\" XO\", repeat=9):\n",
    "        if (state.count(\"X\") - state.count(\"O\")) not in (0, 1):\n",
    "            continue\n",
    "        string_state = \"\".join(state)\n",
    "        for action in available_actions(string_state):\n",
    "            Q[(string_state, action)] = 0.0\n",
    "    return Q\n",
    "\n",
    "Q = initialize_Q()\n"
   ]
  },
  {
   "cell_type": "markdown",
   "metadata": {},
   "source": [
    "#### **Funciones de ayuda**"
   ]
  },
  {
   "cell_type": "code",
   "execution_count": 6,
   "metadata": {},
   "outputs": [],
   "source": [
    "def sample_next_action(current_state, actions, epsilon):\n",
    "    if np.random.uniform(0, 1) < epsilon:\n",
    "        return random.choice(actions)\n",
    "    else:\n",
    "        Qs = np.array([Q.get((current_state, action), 0) for action in actions])\n",
    "        return actions[np.argmax(Qs)]\n",
    "\n",
    "def initialize_Q():\n",
    "    Q = {}\n",
    "    for state in product(\" XO\", repeat=9):\n",
    "        if (state.count(\"X\") - state.count(\"O\")) not in (0, 1):\n",
    "            continue\n",
    "        string_state = \"\".join(state)\n",
    "        for action in available_actions(string_state):\n",
    "            Q[(string_state, action)] = 0.0\n",
    "    return Q\n",
    "\n",
    "Q = initialize_Q()\n",
    "\n",
    "\n",
    "def reward_move(current_state, action, player):\n",
    "    next_state = make_move(current_state, player, action)\n",
    "    winner = check_winner(next_state)\n",
    "    if winner == player:\n",
    "        return REWARD_WIN\n",
    "    elif winner == \"X\" if player == \"O\" else \"O\":\n",
    "        return REWARD_LOSE\n",
    "    elif winner == \"draw\":\n",
    "        return REWARD_DRAW\n",
    "    elif action == 4:\n",
    "        return REWARD_CENTER\n",
    "    # Evaluar posibles bloqueos\n",
    "    blocking_state = make_move(current_state, \"X\" if player == \"O\" else \"O\", action)\n",
    "    if check_winner(blocking_state) == \"X\":\n",
    "        return REWARD_BLOCKING\n",
    "    return REWARD_DEFAULT\n",
    "\n",
    "\n",
    "def update(current_state, action, gamma):\n",
    "    next_state = make_move(current_state, \"O\", action)\n",
    "    max_next_Q = np.max([Q.get((next_state, next_action), 0) for next_action in available_actions(current_state)])\n",
    "    reward = reward_move(current_state, action, \"O\")\n",
    "    if check_winner(next_state) is not None:\n",
    "        gamma = 1.0\n",
    "    Q[(current_state, action)] = alpha * (reward + gamma * max_next_Q - Q[(current_state, action)])\n",
    "\n",
    "def save_Q_Matrix(Q):\n",
    "    with open(\"Q_matrix.txt\", \"w\") as f:\n",
    "        for key, value in Q.items():\n",
    "            f.write(f\"{key}: {value}\\n\")"
   ]
  },
  {
   "cell_type": "code",
   "execution_count": 7,
   "metadata": {},
   "outputs": [],
   "source": [
    "stat_rates = {\n",
    "    \"wins\": [],\n",
    "    \"draws\": [],\n",
    "    \"losses\": []\n",
    "}\n",
    "\n",
    "PARTIDAS_POR_EPISODIO = 100\n",
    "EPISODES = 10000\n"
   ]
  },
  {
   "cell_type": "markdown",
   "metadata": {},
   "source": [
    "## **Entrenamiento**"
   ]
  },
  {
   "cell_type": "code",
   "execution_count": 8,
   "metadata": {},
   "outputs": [
    {
     "name": "stdout",
     "output_type": "stream",
     "text": [
      "{'wins': 91, 'draws': 9, 'losses': 0}\n",
      "{'wins': [0.91], 'draws': [0.09], 'losses': [0.0]}\n",
      "After 1000 simulations\n",
      "Win rate: 91.00%\n",
      "Draw rate: 9.00%\n",
      "Loss rate: 0.00%\n",
      "\n",
      "***************\n",
      "\n",
      "{'wins': 87, 'draws': 9, 'losses': 4}\n",
      "{'wins': [0.91, 0.87], 'draws': [0.09, 0.09], 'losses': [0.0, 0.04]}\n",
      "After 2000 simulations\n",
      "Win rate: 87.00%\n",
      "Draw rate: 9.00%\n",
      "Loss rate: 4.00%\n",
      "\n",
      "***************\n",
      "\n",
      "{'wins': 90, 'draws': 6, 'losses': 4}\n",
      "{'wins': [0.91, 0.87, 0.9], 'draws': [0.09, 0.09, 0.06], 'losses': [0.0, 0.04, 0.04]}\n",
      "After 3000 simulations\n",
      "Win rate: 90.00%\n",
      "Draw rate: 6.00%\n",
      "Loss rate: 4.00%\n",
      "\n",
      "***************\n",
      "\n",
      "{'wins': 92, 'draws': 7, 'losses': 1}\n",
      "{'wins': [0.91, 0.87, 0.9, 0.92], 'draws': [0.09, 0.09, 0.06, 0.07], 'losses': [0.0, 0.04, 0.04, 0.01]}\n",
      "After 4000 simulations\n",
      "Win rate: 92.00%\n",
      "Draw rate: 7.00%\n",
      "Loss rate: 1.00%\n",
      "\n",
      "***************\n",
      "\n",
      "{'wins': 93, 'draws': 6, 'losses': 1}\n",
      "{'wins': [0.91, 0.87, 0.9, 0.92, 0.93], 'draws': [0.09, 0.09, 0.06, 0.07, 0.06], 'losses': [0.0, 0.04, 0.04, 0.01, 0.01]}\n",
      "After 5000 simulations\n",
      "Win rate: 93.00%\n",
      "Draw rate: 6.00%\n",
      "Loss rate: 1.00%\n",
      "\n",
      "***************\n",
      "\n",
      "{'wins': 93, 'draws': 4, 'losses': 3}\n",
      "{'wins': [0.91, 0.87, 0.9, 0.92, 0.93, 0.93], 'draws': [0.09, 0.09, 0.06, 0.07, 0.06, 0.04], 'losses': [0.0, 0.04, 0.04, 0.01, 0.01, 0.03]}\n",
      "After 6000 simulations\n",
      "Win rate: 93.00%\n",
      "Draw rate: 4.00%\n",
      "Loss rate: 3.00%\n",
      "\n",
      "***************\n",
      "\n",
      "{'wins': 95, 'draws': 4, 'losses': 1}\n",
      "{'wins': [0.91, 0.87, 0.9, 0.92, 0.93, 0.93, 0.95], 'draws': [0.09, 0.09, 0.06, 0.07, 0.06, 0.04, 0.04], 'losses': [0.0, 0.04, 0.04, 0.01, 0.01, 0.03, 0.01]}\n",
      "After 7000 simulations\n",
      "Win rate: 95.00%\n",
      "Draw rate: 4.00%\n",
      "Loss rate: 1.00%\n",
      "\n",
      "***************\n",
      "\n",
      "{'wins': 92, 'draws': 7, 'losses': 1}\n",
      "{'wins': [0.91, 0.87, 0.9, 0.92, 0.93, 0.93, 0.95, 0.92], 'draws': [0.09, 0.09, 0.06, 0.07, 0.06, 0.04, 0.04, 0.07], 'losses': [0.0, 0.04, 0.04, 0.01, 0.01, 0.03, 0.01, 0.01]}\n",
      "After 8000 simulations\n",
      "Win rate: 92.00%\n",
      "Draw rate: 7.00%\n",
      "Loss rate: 1.00%\n",
      "\n",
      "***************\n",
      "\n",
      "{'wins': 94, 'draws': 3, 'losses': 3}\n",
      "{'wins': [0.91, 0.87, 0.9, 0.92, 0.93, 0.93, 0.95, 0.92, 0.94], 'draws': [0.09, 0.09, 0.06, 0.07, 0.06, 0.04, 0.04, 0.07, 0.03], 'losses': [0.0, 0.04, 0.04, 0.01, 0.01, 0.03, 0.01, 0.01, 0.03]}\n",
      "After 9000 simulations\n",
      "Win rate: 94.00%\n",
      "Draw rate: 3.00%\n",
      "Loss rate: 3.00%\n",
      "\n",
      "***************\n",
      "\n",
      "{'wins': 94, 'draws': 6, 'losses': 0}\n",
      "{'wins': [0.91, 0.87, 0.9, 0.92, 0.93, 0.93, 0.95, 0.92, 0.94, 0.94], 'draws': [0.09, 0.09, 0.06, 0.07, 0.06, 0.04, 0.04, 0.07, 0.03, 0.06], 'losses': [0.0, 0.04, 0.04, 0.01, 0.01, 0.03, 0.01, 0.01, 0.03, 0.0]}\n",
      "After 10000 simulations\n",
      "Win rate: 94.00%\n",
      "Draw rate: 6.00%\n",
      "Loss rate: 0.00%\n",
      "\n",
      "***************\n",
      "\n"
     ]
    },
    {
     "data": {
      "image/png": "[encoded data removed]",
      "text/plain": [
       "<Figure size 640x480 with 1 Axes>"
      ]
     },
     "metadata": {},
     "output_type": "display_data"
    }
   ],
   "source": [
    "for i in range(EPISODES):\n",
    "    stats = {\n",
    "        \"wins\": 0,\n",
    "        \"draws\": 0,\n",
    "        \"losses\": 0\n",
    "    }\n",
    "    for j in range(PARTIDAS_POR_EPISODIO):\n",
    "        current_state = \" \" * 9\n",
    "        machine_turn = np.random.choice([True, False])\n",
    "        while True:\n",
    "            av_actions = available_actions(current_state)\n",
    "            if len(av_actions) == 0:\n",
    "                break\n",
    "            if machine_turn:\n",
    "                action = sample_next_action(current_state, av_actions, epsilon)\n",
    "                update(current_state, action, gamma)\n",
    "                current_state = make_move(current_state, \"O\", action)\n",
    "                if check_winner(current_state) == \"O\":\n",
    "                    stats[\"wins\"] += 1\n",
    "                    break\n",
    "                elif check_winner(current_state) == \"draw\":\n",
    "                    stats[\"draws\"] += 1\n",
    "                    break\n",
    "            else:\n",
    "                action = random.choice(av_actions)\n",
    "                current_state = make_move(current_state, \"X\", action)\n",
    "                if check_winner(current_state) == \"draw\":\n",
    "                    stats[\"draws\"] += 1\n",
    "                    break\n",
    "                elif check_winner(current_state) == \"X\":\n",
    "                    stats[\"losses\"] += 1\n",
    "                    break\n",
    "            machine_turn = not machine_turn\n",
    "\n",
    "    if (i + 1) % 1000 == 0:\n",
    "        stat_rates[\"wins\"].append(stats[\"wins\"] / PARTIDAS_POR_EPISODIO)\n",
    "        stat_rates[\"draws\"].append(stats[\"draws\"] / PARTIDAS_POR_EPISODIO)\n",
    "        stat_rates[\"losses\"].append(stats[\"losses\"] / PARTIDAS_POR_EPISODIO)\n",
    "\n",
    "        print(stats)\n",
    "        print(stat_rates)\n",
    "        print(\"After {} simulations\".format(i + 1))\n",
    "        print(\"Win rate: {:.2f}%\".format(stat_rates[\"wins\"][-1] * 100))\n",
    "        print(\"Draw rate: {:.2f}%\".format(stat_rates[\"draws\"][-1] * 100))\n",
    "        print(\"Loss rate: {:.2f}%\".format(stat_rates[\"losses\"][-1] * 100))\n",
    "        print(\"\\n***************\\n\")\n",
    "\n",
    "    epsilon = max(min_epsilon, epsilon * epsilon_decay)\n",
    "\n",
    "# plt.ion()\n",
    "plt.plot(stat_rates[\"wins\"])\n",
    "plt.xlabel(\"Simulation\")\n",
    "plt.ylabel(\"Win rate\")\n",
    "plt.show()\n",
    "\n",
    "# start_game(Q)"
   ]
  },
  {
   "cell_type": "markdown",
   "metadata": {},
   "source": [
    "#### **Salvar el modelo**"
   ]
  },
  {
   "cell_type": "code",
   "execution_count": 9,
   "metadata": {},
   "outputs": [],
   "source": [
    "save_Q_Matrix(Q)"
   ]
  },
  {
   "cell_type": "markdown",
   "metadata": {},
   "source": [
    "#### **Correr**"
   ]
  },
  {
   "cell_type": "code",
   "execution_count": 11,
   "metadata": {},
   "outputs": [
    {
     "name": "stdout",
     "output_type": "stream",
     "text": [
      "  X      \n",
      "1 1\n",
      "X X O    \n",
      "0 1\n",
      "XOX O  X \n",
      "1 0\n",
      "XOXOOX X \n",
      "2 2\n",
      "current_player: O\n",
      "         \n",
      "1 1\n",
      "    O   X\n",
      "2 1\n",
      " X  O  OX\n",
      "0 0\n",
      "OXX O  OX\n",
      "1 2\n",
      "OXXXOO OX\n",
      "2 0\n",
      "current_player: X\n",
      "  X      \n",
      "1 1\n",
      "  X OX   \n",
      "2 2\n",
      "X X OX  O\n",
      "0 1\n",
      "XOX OX XO\n",
      "1 0\n",
      "current_player: X\n",
      "       X \n",
      "1 1\n",
      "    O  XX\n",
      "2 0\n",
      "  X O OXX\n",
      "1 2\n",
      "  XXOOOXX\n",
      "0 0\n",
      "current_player: X\n"
     ]
    }
   ],
   "source": [
    "%run game_demo.py"
   ]
  }
 ],
 "metadata": {
  "kernelspec": {
   "display_name": ".venv",
   "language": "python",
   "name": "python3"
  },
  "language_info": {
   "codemirror_mode": {
    "name": "ipython",
    "version": 3
   },
   "file_extension": ".py",
   "mimetype": "text/x-python",
   "name": "python",
   "nbconvert_exporter": "python",
   "pygments_lexer": "ipython3",
   "version": "3.12.3"
  }
 },
 "nbformat": 4,
 "nbformat_minor": 2
}
